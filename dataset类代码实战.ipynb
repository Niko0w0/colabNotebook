{
  "nbformat": 4,
  "nbformat_minor": 0,
  "metadata": {
    "colab": {
      "name": "dataset类代码实战.ipynb",
      "provenance": [],
      "mount_file_id": "1-KiZvnyCsuOsp-JtXJSeUVM1DLSNxO7T",
      "authorship_tag": "ABX9TyOIqH7zAoUsuWwzdy6dWp41",
      "include_colab_link": true
    },
    "kernelspec": {
      "name": "python3",
      "display_name": "Python 3"
    },
    "language_info": {
      "name": "python"
    }
  },
  "cells": [
    {
      "cell_type": "markdown",
      "metadata": {
        "id": "view-in-github",
        "colab_type": "text"
      },
      "source": [
        "<a href=\"https://colab.research.google.com/github/Niko0w0/colabNotebook/blob/main/dataset%E7%B1%BB%E4%BB%A3%E7%A0%81%E5%AE%9E%E6%88%98.ipynb\" target=\"_parent\"><img src=\"https://colab.research.google.com/assets/colab-badge.svg\" alt=\"Open In Colab\"/></a>"
      ]
    },
    {
      "cell_type": "code",
      "source": [
        "!pip install tensorflow-gpu"
      ],
      "metadata": {
        "id": "tvCaXwK6xemS"
      },
      "execution_count": null,
      "outputs": []
    },
    {
      "cell_type": "code",
      "source": [
        "!pip install torch"
      ],
      "metadata": {
        "id": "ZlJOkvunxiiC"
      },
      "execution_count": null,
      "outputs": []
    },
    {
      "cell_type": "code",
      "source": [
        "!pip install opencv-python"
      ],
      "metadata": {
        "colab": {
          "base_uri": "https://localhost:8080/"
        },
        "id": "kIcNcIcjyKtV",
        "outputId": "6a5f1870-d38d-4f1d-bf35-7271e30adea5"
      },
      "execution_count": 17,
      "outputs": [
        {
          "output_type": "stream",
          "name": "stdout",
          "text": [
            "Requirement already satisfied: opencv-python in /usr/local/lib/python3.7/dist-packages (4.1.2.30)\n",
            "Requirement already satisfied: numpy>=1.14.5 in /usr/local/lib/python3.7/dist-packages (from opencv-python) (1.21.5)\n"
          ]
        }
      ]
    },
    {
      "cell_type": "code",
      "source": [
        "!pip install Pillow"
      ],
      "metadata": {
        "colab": {
          "base_uri": "https://localhost:8080/"
        },
        "id": "bVTchk9P0lFx",
        "outputId": "a237914a-49f9-4305-d9ca-5ffac7d755a1"
      },
      "execution_count": 4,
      "outputs": [
        {
          "output_type": "stream",
          "name": "stdout",
          "text": [
            "Requirement already satisfied: Pillow in /usr/local/lib/python3.7/dist-packages (9.1.0)\n"
          ]
        }
      ]
    },
    {
      "cell_type": "code",
      "source": [
        "img_path = \"/content/drive/MyDrive/hymenoptera_data/train/ants/0013035.jpg\""
      ],
      "metadata": {
        "id": "xx-RVS8q1Quh"
      },
      "execution_count": 8,
      "outputs": []
    },
    {
      "cell_type": "code",
      "source": [
        "img = Image.open(img_path)"
      ],
      "metadata": {
        "id": "iicL9W_R1V6F"
      },
      "execution_count": 9,
      "outputs": []
    },
    {
      "cell_type": "code",
      "source": [
        "img.size"
      ],
      "metadata": {
        "colab": {
          "base_uri": "https://localhost:8080/"
        },
        "id": "yslbixjL1hTi",
        "outputId": "026ecfa4-3473-44b6-b506-b8dd7a540aa0"
      },
      "execution_count": 12,
      "outputs": [
        {
          "output_type": "execute_result",
          "data": {
            "text/plain": [
              "(768, 512)"
            ]
          },
          "metadata": {},
          "execution_count": 12
        }
      ]
    },
    {
      "cell_type": "code",
      "source": [
        "import os"
      ],
      "metadata": {
        "id": "Ug9YAM0R17FU"
      },
      "execution_count": 16,
      "outputs": []
    },
    {
      "cell_type": "code",
      "source": [
        "dir_path = \"/content/drive/MyDrive/hymenoptera_data/train/ants\""
      ],
      "metadata": {
        "id": "cep9p2m22DYs"
      },
      "execution_count": 14,
      "outputs": []
    },
    {
      "cell_type": "code",
      "source": [
        "img_path_list = os.listdir(dir_path)"
      ],
      "metadata": {
        "id": "QY_BN_IL18cx"
      },
      "execution_count": 15,
      "outputs": []
    },
    {
      "cell_type": "code",
      "source": [
        "img_path_list[0]"
      ],
      "metadata": {
        "colab": {
          "base_uri": "https://localhost:8080/",
          "height": 35
        },
        "id": "g0Yc_JFI2Lrj",
        "outputId": "9d5de2f3-c181-404a-9609-41136bb38205"
      },
      "execution_count": 19,
      "outputs": [
        {
          "output_type": "execute_result",
          "data": {
            "text/plain": [
              "'0013035.jpg'"
            ],
            "application/vnd.google.colaboratory.intrinsic+json": {
              "type": "string"
            }
          },
          "metadata": {},
          "execution_count": 19
        }
      ]
    },
    {
      "cell_type": "code",
      "source": [
        "root_dir = \"/content/drive/MyDrive/hymenoptera_data/train\""
      ],
      "metadata": {
        "id": "cYHKThcS2hWv"
      },
      "execution_count": 20,
      "outputs": []
    },
    {
      "cell_type": "code",
      "source": [
        "label_dir = \"ants\""
      ],
      "metadata": {
        "id": "HFFeNrsY2qzp"
      },
      "execution_count": 21,
      "outputs": []
    },
    {
      "cell_type": "code",
      "source": [
        "path = os.path.join(root_dir, label_dir)"
      ],
      "metadata": {
        "id": "rW6bAVTA2tkv"
      },
      "execution_count": 22,
      "outputs": []
    },
    {
      "cell_type": "code",
      "source": [
        "path"
      ],
      "metadata": {
        "colab": {
          "base_uri": "https://localhost:8080/",
          "height": 35
        },
        "id": "BWh9jK-H2zJz",
        "outputId": "c5fb649e-0371-4a67-dcb9-6ae359b909cd"
      },
      "execution_count": 23,
      "outputs": [
        {
          "output_type": "execute_result",
          "data": {
            "text/plain": [
              "'/content/drive/MyDrive/hymenoptera_data/train/ants'"
            ],
            "application/vnd.google.colaboratory.intrinsic+json": {
              "type": "string"
            }
          },
          "metadata": {},
          "execution_count": 23
        }
      ]
    },
    {
      "cell_type": "code",
      "source": [
        "img_path = os.listdir(path)"
      ],
      "metadata": {
        "id": "uJ3t9tW43X88"
      },
      "execution_count": 25,
      "outputs": []
    },
    {
      "cell_type": "code",
      "source": [
        "idx = 0\n",
        "img_name = img_path[idx]"
      ],
      "metadata": {
        "id": "kb99AjYn3k6r"
      },
      "execution_count": 26,
      "outputs": []
    },
    {
      "cell_type": "code",
      "source": [
        "img_item_path = os.path.join(root_dir, label_dir, img_name)"
      ],
      "metadata": {
        "id": "GJu1oinU3fF4"
      },
      "execution_count": 28,
      "outputs": []
    },
    {
      "cell_type": "code",
      "source": [
        "img_item_path"
      ],
      "metadata": {
        "colab": {
          "base_uri": "https://localhost:8080/",
          "height": 35
        },
        "id": "eOFQhTHK3xPn",
        "outputId": "12cc082b-48ea-4b83-fcfa-5d5e95410672"
      },
      "execution_count": 29,
      "outputs": [
        {
          "output_type": "execute_result",
          "data": {
            "text/plain": [
              "'/content/drive/MyDrive/hymenoptera_data/train/ants/0013035.jpg'"
            ],
            "application/vnd.google.colaboratory.intrinsic+json": {
              "type": "string"
            }
          },
          "metadata": {},
          "execution_count": 29
        }
      ]
    },
    {
      "cell_type": "code",
      "source": [
        ""
      ],
      "metadata": {
        "id": "HXbMWyZD4SX2"
      },
      "execution_count": null,
      "outputs": []
    },
    {
      "cell_type": "code",
      "source": [
        "from torch.utils.data import Dataset\n",
        "from PIL import Image\n",
        "import os\n",
        "\n",
        "class MyData(Dataset):\n",
        "\n",
        "  def __init__(self, root_dir, label_dir):\n",
        "    self.root_dir = root_dir\n",
        "    self.label_dir = label_dir\n",
        "    self.path = os.path.join(root_dir, label_dir)\n",
        "    self.img_path = os.listdir(self.path)\n",
        "\n",
        "  def __getitem__(self, idx):\n",
        "    img_name = self.img_path[idx]\n",
        "    img_item_path = os.path.join(self.root_dir, self.label_dir, img_name)\n",
        "    img = Image.open(img_item_path)\n",
        "    label = self.label_dir\n",
        "    return img, label\n",
        "\n",
        "  def __len__(self):\n",
        "    return len(self.img_path)\n",
        "\n",
        "root_dir = \"/content/drive/MyDrive/hymenoptera_data/train\"\n",
        "ants_label_dir = \"ants\"\n",
        "bees_label_dir = \"bees\"\n",
        "ants_dataset = MyData(root_dir, ants_label_dir)\n",
        "bees_dataset = MyData(root_dir, bees_label_dir)"
      ],
      "metadata": {
        "id": "-gTgDkySx182"
      },
      "execution_count": 37,
      "outputs": []
    },
    {
      "cell_type": "code",
      "source": [
        "ants_dataset[0]"
      ],
      "metadata": {
        "colab": {
          "base_uri": "https://localhost:8080/"
        },
        "id": "Kj3G1MLk16sY",
        "outputId": "467db147-85b8-4301-9dc2-d4c3b578e128"
      },
      "execution_count": 33,
      "outputs": [
        {
          "output_type": "execute_result",
          "data": {
            "text/plain": [
              "(<PIL.JpegImagePlugin.JpegImageFile image mode=RGB size=768x512>, 'ants')"
            ]
          },
          "metadata": {},
          "execution_count": 33
        }
      ]
    },
    {
      "cell_type": "code",
      "source": [
        "img, label = ants_dataset[0]"
      ],
      "metadata": {
        "id": "gQyhWswU4fXA"
      },
      "execution_count": 34,
      "outputs": []
    },
    {
      "cell_type": "code",
      "source": [
        "img.size"
      ],
      "metadata": {
        "colab": {
          "base_uri": "https://localhost:8080/"
        },
        "id": "xb-WBxxG4izc",
        "outputId": "f506729c-5cb5-445a-9e09-44cda31fe862"
      },
      "execution_count": 36,
      "outputs": [
        {
          "output_type": "execute_result",
          "data": {
            "text/plain": [
              "(768, 512)"
            ]
          },
          "metadata": {},
          "execution_count": 36
        }
      ]
    },
    {
      "cell_type": "code",
      "source": [
        "bees_dataset[0]\n",
        "img, label = bees_dataset[0]"
      ],
      "metadata": {
        "id": "sysooJod4lKR"
      },
      "execution_count": 38,
      "outputs": []
    },
    {
      "cell_type": "code",
      "source": [
        "img.size"
      ],
      "metadata": {
        "colab": {
          "base_uri": "https://localhost:8080/"
        },
        "id": "AWXvpk7t45hT",
        "outputId": "633aa420-9962-4a86-bc3a-44378f2c57ff"
      },
      "execution_count": 39,
      "outputs": [
        {
          "output_type": "execute_result",
          "data": {
            "text/plain": [
              "(500, 356)"
            ]
          },
          "metadata": {},
          "execution_count": 39
        }
      ]
    },
    {
      "cell_type": "code",
      "source": [
        "train_dataset = ants_dataset + bees_dataset"
      ],
      "metadata": {
        "id": "VTldp_t85FwY"
      },
      "execution_count": 40,
      "outputs": []
    },
    {
      "cell_type": "code",
      "source": [
        "len(train_dataset)"
      ],
      "metadata": {
        "colab": {
          "base_uri": "https://localhost:8080/"
        },
        "id": "3czU8K0g5Nym",
        "outputId": "84a592af-7722-49b2-ce10-3d2411126bab"
      },
      "execution_count": 41,
      "outputs": [
        {
          "output_type": "execute_result",
          "data": {
            "text/plain": [
              "245"
            ]
          },
          "metadata": {},
          "execution_count": 41
        }
      ]
    },
    {
      "cell_type": "code",
      "source": [
        "len(ants_dataset)"
      ],
      "metadata": {
        "colab": {
          "base_uri": "https://localhost:8080/"
        },
        "id": "62l88fup5Q2W",
        "outputId": "1e10eff1-c927-4853-c5c8-cd69883c40a7"
      },
      "execution_count": 43,
      "outputs": [
        {
          "output_type": "execute_result",
          "data": {
            "text/plain": [
              "124"
            ]
          },
          "metadata": {},
          "execution_count": 43
        }
      ]
    },
    {
      "cell_type": "code",
      "source": [
        "len(bees_dataset)"
      ],
      "metadata": {
        "colab": {
          "base_uri": "https://localhost:8080/"
        },
        "id": "IMstRADW5YBG",
        "outputId": "7b73c32c-f31f-4bd0-a0ad-3df1791297d1"
      },
      "execution_count": 44,
      "outputs": [
        {
          "output_type": "execute_result",
          "data": {
            "text/plain": [
              "121"
            ]
          },
          "metadata": {},
          "execution_count": 44
        }
      ]
    },
    {
      "cell_type": "code",
      "source": [
        "img, label = train_dataset[0]\n",
        "img.size"
      ],
      "metadata": {
        "colab": {
          "base_uri": "https://localhost:8080/"
        },
        "id": "WEmBDPLq5ZtX",
        "outputId": "1f30e8ba-2453-45b7-841f-77d868185ec3"
      },
      "execution_count": 45,
      "outputs": [
        {
          "output_type": "execute_result",
          "data": {
            "text/plain": [
              "(768, 512)"
            ]
          },
          "metadata": {},
          "execution_count": 45
        }
      ]
    },
    {
      "cell_type": "code",
      "source": [
        "# 将图片分类的代码\n",
        "import os\n",
        "\n",
        "root_dir = \"/content/drive/MyDrive/hymenoptera_data/train\"\n",
        "target_dir = \"ants_image\"\n",
        "import_path = os.listdir(os.path.join(root_dir, target_dir))\n",
        "label = target_dir.split('_')[0]\n",
        "out_dir = \"ants_label\"\n",
        "for i in img_path:\n",
        "  file_name = i.split('.jpg')[0]\n",
        "  with open(os.path.join(root_dir, out_dir, \"{}.txt\".format(file_name)), 'w') as f:\n",
        "    f.write(label)"
      ],
      "metadata": {
        "id": "KBjViZXn6XiE"
      },
      "execution_count": 47,
      "outputs": []
    },
    {
      "cell_type": "code",
      "source": [
        "# 将图片分类的代码\n",
        "import os\n",
        "\n",
        "root_dir = \"/content/drive/MyDrive/hymenoptera_data/train\"\n",
        "target_dir = \"bees_image\"\n",
        "import_path = os.listdir(os.path.join(root_dir, target_dir))\n",
        "label = target_dir.split('_')[0]\n",
        "out_dir = \"bees_label\"\n",
        "for i in img_path:\n",
        "  file_name = i.split('.jpg')[0]\n",
        "  with open(os.path.join(root_dir, out_dir, \"{}.txt\".format(file_name)), 'w') as f:\n",
        "    f.write(label)"
      ],
      "metadata": {
        "id": "FvZrFixI7QeM"
      },
      "execution_count": 48,
      "outputs": []
    }
  ]
}