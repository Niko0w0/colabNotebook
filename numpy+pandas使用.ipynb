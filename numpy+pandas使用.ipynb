{
  "nbformat": 4,
  "nbformat_minor": 0,
  "metadata": {
    "colab": {
      "name": "numpy+pandas使用.ipynb",
      "provenance": [],
      "collapsed_sections": [],
      "authorship_tag": "ABX9TyO9+wNS1kW2IB8b7b8ieBY+",
      "include_colab_link": true
    },
    "kernelspec": {
      "name": "python3",
      "display_name": "Python 3"
    },
    "language_info": {
      "name": "python"
    }
  },
  "cells": [
    {
      "cell_type": "markdown",
      "metadata": {
        "id": "view-in-github",
        "colab_type": "text"
      },
      "source": [
        "<a href=\"https://colab.research.google.com/github/Niko0w0/colabNotebook/blob/main/numpy%2Bpandas%E4%BD%BF%E7%94%A8.ipynb\" target=\"_parent\"><img src=\"https://colab.research.google.com/assets/colab-badge.svg\" alt=\"Open In Colab\"/></a>"
      ]
    },
    {
      "cell_type": "markdown",
      "source": [
        "参考莫烦python的数据处理教程"
      ],
      "metadata": {
        "id": "mrkpHCHExyY3"
      }
    },
    {
      "cell_type": "code",
      "execution_count": 1,
      "metadata": {
        "colab": {
          "base_uri": "https://localhost:8080/"
        },
        "id": "SF28kvgixs6e",
        "outputId": "b330ca82-5b1f-4b01-8563-f8dffc8b868e"
      },
      "outputs": [
        {
          "output_type": "stream",
          "name": "stdout",
          "text": [
            "Requirement already satisfied: numpy in /usr/local/lib/python3.7/dist-packages (1.21.6)\n"
          ]
        }
      ],
      "source": [
        "pip install numpy"
      ]
    },
    {
      "cell_type": "code",
      "source": [
        "pip install pandas"
      ],
      "metadata": {
        "colab": {
          "base_uri": "https://localhost:8080/"
        },
        "id": "gJ2Mk2l-x5M8",
        "outputId": "766ed3ee-5fdb-47eb-c8e2-acee9231ca10"
      },
      "execution_count": 2,
      "outputs": [
        {
          "output_type": "stream",
          "name": "stdout",
          "text": [
            "Requirement already satisfied: pandas in /usr/local/lib/python3.7/dist-packages (1.3.5)\n",
            "Requirement already satisfied: python-dateutil>=2.7.3 in /usr/local/lib/python3.7/dist-packages (from pandas) (2.8.2)\n",
            "Requirement already satisfied: pytz>=2017.3 in /usr/local/lib/python3.7/dist-packages (from pandas) (2022.1)\n",
            "Requirement already satisfied: numpy>=1.17.3 in /usr/local/lib/python3.7/dist-packages (from pandas) (1.21.6)\n",
            "Requirement already satisfied: six>=1.5 in /usr/local/lib/python3.7/dist-packages (from python-dateutil>=2.7.3->pandas) (1.15.0)\n"
          ]
        }
      ]
    },
    {
      "cell_type": "code",
      "source": [
        "import numpy as np\n",
        "\n",
        "array = np.array([[1,2,3], \n",
        "          [2,3,4]])\n",
        "print(array)\n",
        "print(\"number of dim:\", array.ndim)\n",
        "print(\"shape:\", array.shape)\n",
        "print(\"size\", array.size)"
      ],
      "metadata": {
        "colab": {
          "base_uri": "https://localhost:8080/"
        },
        "id": "NDCaku65x8FX",
        "outputId": "0aa419ad-5a12-4200-fd63-988649ab17b0"
      },
      "execution_count": null,
      "outputs": [
        {
          "output_type": "stream",
          "name": "stdout",
          "text": [
            "[[1 2 3]\n",
            " [2 3 4]]\n",
            "number of dim: 2\n",
            "shape: (2, 3)\n",
            "size 6\n"
          ]
        }
      ]
    },
    {
      "cell_type": "code",
      "source": [
        "import numpy as np\n",
        "\n",
        "# a = np.array([2, 23, 4], dtype=np.int)\n",
        "# a = np.array([2, 23, 4], dtype=np.float)\n",
        "# print(a.dtype)\n",
        "\n",
        "# a = np.zeros((3, 4))\n",
        "# a = np.ones((3, 4))\n",
        "# a = np.empty((3, 4))\n",
        "\n",
        "# a = np.arange(10, 20, 2) # 生成从10-20，步长为2的数组\n",
        "# a = np.arange(12).reshape((3, 4))\n",
        "\n",
        "# a = np.linspace(1, 10, 6) # 开始，结束，需要分成多少端，自动生成符合要求的数列\n",
        "a = np.linspace(1, 10, 6).reshape(2, 3)\n",
        "print(a)"
      ],
      "metadata": {
        "colab": {
          "base_uri": "https://localhost:8080/"
        },
        "id": "umegHE66ylvj",
        "outputId": "7e6c5603-9e88-4b7b-8bce-1975c80d324f"
      },
      "execution_count": null,
      "outputs": [
        {
          "output_type": "stream",
          "name": "stdout",
          "text": [
            "[[ 1.   2.8  4.6]\n",
            " [ 6.4  8.2 10. ]]\n"
          ]
        }
      ]
    },
    {
      "cell_type": "code",
      "source": [
        "import numpy as np\n",
        "\n",
        "a = np.array([[1, 1],\n",
        "        [0, 1]])\n",
        "b = np.arange(4).reshape((2, 2))\n",
        "# c = b ** 2\n",
        "# c = 10 * np.sin(a) #a中所有值求sin后乘10\n",
        "# print(c)\n",
        "# print(b < 3)\n",
        "# print(b == 3)\n",
        "c = a * b\n",
        "c_dot = np.dot(a, b)\n",
        "print(c)\n",
        "print(c_dot) # 矩阵运算\n",
        "c_dot_2 = a.dot(b)\n",
        "print(c_dot_2)"
      ],
      "metadata": {
        "colab": {
          "base_uri": "https://localhost:8080/"
        },
        "id": "dDVZjE8yzAeb",
        "outputId": "0adbd149-cc92-4755-b657-f0c74ffd4c87"
      },
      "execution_count": null,
      "outputs": [
        {
          "output_type": "stream",
          "name": "stdout",
          "text": [
            "[[0 1]\n",
            " [0 3]]\n",
            "[[2 4]\n",
            " [2 3]]\n",
            "[[2 4]\n",
            " [2 3]]\n"
          ]
        }
      ]
    },
    {
      "cell_type": "code",
      "source": [
        "import numpy as np\n",
        "a = np.random.random((2, 4))\n",
        "print(a)\n",
        "print(np.sum(a, axis=1)) # axis定义维度，0是对列操作，1是对行操作\n",
        "print(np.min(a, axis=0))\n",
        "print(np.max(a, axis=1))"
      ],
      "metadata": {
        "colab": {
          "base_uri": "https://localhost:8080/"
        },
        "id": "yccmT8_M2pJA",
        "outputId": "cb1e0d4b-a7ea-4cd3-83cf-b93a8d41ffc9"
      },
      "execution_count": null,
      "outputs": [
        {
          "output_type": "stream",
          "name": "stdout",
          "text": [
            "[[0.36471326 0.66552975 0.22262649 0.69007644]\n",
            " [0.03445725 0.0133085  0.97442817 0.14506295]]\n",
            "[1.94294594 1.16725686]\n",
            "[0.03445725 0.0133085  0.22262649 0.14506295]\n",
            "[0.69007644 0.97442817]\n"
          ]
        }
      ]
    },
    {
      "cell_type": "code",
      "source": [
        "import numpy as np\n",
        "A = np.arange(2, 14).reshape(2, 6)\n",
        "\n",
        "print(np.argmin(A)) # 最小的值的索引\n",
        "print(np.argmax(A))\n",
        "print(np.mean(A))\n",
        "print(A.mean())\n",
        "print(np.average(A))\n",
        "print(np.median(A)) # 中位数\n",
        "print(np.cumsum(A)) # 第几项就是前几项的和\n",
        "print(np.diff(A)) # 求代表后一项与前一项的差\n",
        "print(np.nonzero(A)) # 返回的是索引，行的索引以及列的索引\n",
        "print(np.sort(A))\n",
        "# 矩阵的转置\n",
        "print(np.transpose(A)) \n",
        "print(A.T)\n",
        "print((A.T).dot(A))\n",
        "\n",
        "np.clip(A, 5, 9) # 将a中所有小于5的数改为5，所有大于9的数改为9，在之间的数不变\n",
        "\n",
        "A = np.arange(14, 2, -1).reshape((3, 4))\n",
        "print(A)\n",
        "print(np.mean(A, axis=1))\n",
        "print(np.mean(A, axis=0))"
      ],
      "metadata": {
        "colab": {
          "base_uri": "https://localhost:8080/"
        },
        "id": "0lAmAfYP3rsD",
        "outputId": "2d8a9a9a-c070-406f-c655-a7875b877e40"
      },
      "execution_count": null,
      "outputs": [
        {
          "output_type": "stream",
          "name": "stdout",
          "text": [
            "0\n",
            "11\n",
            "7.5\n",
            "7.5\n",
            "7.5\n",
            "7.5\n",
            "[ 2  5  9 14 20 27 35 44 54 65 77 90]\n",
            "[[1 1 1 1 1]\n",
            " [1 1 1 1 1]]\n",
            "(array([0, 0, 0, 0, 0, 0, 1, 1, 1, 1, 1, 1]), array([0, 1, 2, 3, 4, 5, 0, 1, 2, 3, 4, 5]))\n",
            "[[ 2  3  4  5  6  7]\n",
            " [ 8  9 10 11 12 13]]\n",
            "[[ 2  8]\n",
            " [ 3  9]\n",
            " [ 4 10]\n",
            " [ 5 11]\n",
            " [ 6 12]\n",
            " [ 7 13]]\n",
            "[[ 2  8]\n",
            " [ 3  9]\n",
            " [ 4 10]\n",
            " [ 5 11]\n",
            " [ 6 12]\n",
            " [ 7 13]]\n",
            "[[ 68  78  88  98 108 118]\n",
            " [ 78  90 102 114 126 138]\n",
            " [ 88 102 116 130 144 158]\n",
            " [ 98 114 130 146 162 178]\n",
            " [108 126 144 162 180 198]\n",
            " [118 138 158 178 198 218]]\n",
            "[[14 13 12 11]\n",
            " [10  9  8  7]\n",
            " [ 6  5  4  3]]\n",
            "[12.5  8.5  4.5]\n",
            "[10.  9.  8.  7.]\n"
          ]
        }
      ]
    },
    {
      "cell_type": "code",
      "source": [
        "import numpy as np\n",
        "\n",
        "A = np.arange(3, 15).reshape((3,4))\n",
        "print(A)\n",
        "print(A[2][1])\n",
        "print(A[2,1])\n",
        "\n",
        "for row in A:\n",
        "  print(row)\n",
        "for column in A.T:\n",
        "  print(column)\n",
        "\n",
        "print(A.flat) # 把A转变为只有一行的数组\n",
        "print(A.flatten)\n",
        "for item in A.flat:\n",
        "  print(item)"
      ],
      "metadata": {
        "id": "Lwsf1vzA4rss",
        "colab": {
          "base_uri": "https://localhost:8080/"
        },
        "outputId": "61ba6319-c0e2-4d45-e6ef-f8ba6d91a780"
      },
      "execution_count": null,
      "outputs": [
        {
          "output_type": "stream",
          "name": "stdout",
          "text": [
            "[[ 3  4  5  6]\n",
            " [ 7  8  9 10]\n",
            " [11 12 13 14]]\n",
            "12\n",
            "12\n",
            "[3 4 5 6]\n",
            "[ 7  8  9 10]\n",
            "[11 12 13 14]\n",
            "[ 3  7 11]\n",
            "[ 4  8 12]\n",
            "[ 5  9 13]\n",
            "[ 6 10 14]\n",
            "<numpy.flatiter object at 0x3628d00>\n",
            "<built-in method flatten of numpy.ndarray object at 0x7fb7c1586c30>\n",
            "3\n",
            "4\n",
            "5\n",
            "6\n",
            "7\n",
            "8\n",
            "9\n",
            "10\n",
            "11\n",
            "12\n",
            "13\n",
            "14\n"
          ]
        }
      ]
    },
    {
      "cell_type": "code",
      "source": [
        "import numpy as np\n",
        "A = np.array([1,1,1])\n",
        "B = np.array([2,2,2])\n",
        "# vertical stack进行一个上下的合并\n",
        "C = np.vstack((A,B))\n",
        "# horizontal stack进行左右合并\n",
        "D = np.hstack((A,B))\n",
        "print(C)\n",
        "print(D)\n",
        "print(A.shape, B.shape, C.shape, D.shape)\n",
        "\n",
        "# 加维度\n",
        "print(A[np.newaxis, :])\n",
        "print(A[:, np.newaxis])\n",
        "\n",
        "A = np.array([1,1,1])[:,np.newaxis]\n",
        "B = np.array([2,2,2])[:,np.newaxis]\n",
        "\n",
        "C = np.concatenate((A,B,B,A),axis=0) # 进行多个array的合并 axis为0表示在横向，1表示在纵向\n",
        "print(C)"
      ],
      "metadata": {
        "colab": {
          "base_uri": "https://localhost:8080/"
        },
        "id": "F2OcnjyK3TjI",
        "outputId": "27aa54dc-4e31-4142-834c-9c9064c1de00"
      },
      "execution_count": null,
      "outputs": [
        {
          "output_type": "stream",
          "name": "stdout",
          "text": [
            "[[1 1 1]\n",
            " [2 2 2]]\n",
            "[1 1 1 2 2 2]\n",
            "(3,) (3,) (2, 3) (6,)\n",
            "[[1 1 1]]\n",
            "[[1]\n",
            " [1]\n",
            " [1]]\n",
            "[[1]\n",
            " [1]\n",
            " [1]\n",
            " [2]\n",
            " [2]\n",
            " [2]\n",
            " [2]\n",
            " [2]\n",
            " [2]\n",
            " [1]\n",
            " [1]\n",
            " [1]]\n"
          ]
        }
      ]
    },
    {
      "cell_type": "markdown",
      "source": [
        "[how to use numpy中的newaxis](https://stackoverflow.com/questions/29241056/how-does-numpy-newaxis-work-and-when-to-use-it)"
      ],
      "metadata": {
        "id": "4k6KHJ2D7wcP"
      }
    },
    {
      "cell_type": "code",
      "source": [
        "# numpy的array分割\n",
        "import numpy as np\n",
        "\n",
        "A = np.arange(12).reshape((3,4))\n",
        "print(A)\n",
        "\n",
        "# axis=0,对行操作，行数改变 axis=1，对列操作，列数改变\n",
        "# 只能进行相等块数的分隔，不能进行不等量的分隔\n",
        "print(np.split(A, 2, axis=1)) # 对其进行纵向分隔，分成两块\n",
        "print(np.split(A, 3, axis=0))\n",
        "\n",
        "# array_split进行不等量的分隔\n",
        "print(np.array_split(A, 3, axis=1))\n",
        "\n",
        "print(np.vsplit(A,3))\n",
        "print(np.hsplit(A,2))"
      ],
      "metadata": {
        "colab": {
          "base_uri": "https://localhost:8080/"
        },
        "id": "SN_G-VFG65Cw",
        "outputId": "d16318d8-fbe9-49d7-822f-06cf016bebe0"
      },
      "execution_count": null,
      "outputs": [
        {
          "output_type": "stream",
          "name": "stdout",
          "text": [
            "[[ 0  1  2  3]\n",
            " [ 4  5  6  7]\n",
            " [ 8  9 10 11]]\n",
            "[array([[0, 1],\n",
            "       [4, 5],\n",
            "       [8, 9]]), array([[ 2,  3],\n",
            "       [ 6,  7],\n",
            "       [10, 11]])]\n",
            "[array([[0, 1, 2, 3]]), array([[4, 5, 6, 7]]), array([[ 8,  9, 10, 11]])]\n",
            "[array([[0, 1],\n",
            "       [4, 5],\n",
            "       [8, 9]]), array([[ 2],\n",
            "       [ 6],\n",
            "       [10]]), array([[ 3],\n",
            "       [ 7],\n",
            "       [11]])]\n",
            "[array([[0, 1, 2, 3]]), array([[4, 5, 6, 7]]), array([[ 8,  9, 10, 11]])]\n",
            "[array([[0, 1],\n",
            "       [4, 5],\n",
            "       [8, 9]]), array([[ 2,  3],\n",
            "       [ 6,  7],\n",
            "       [10, 11]])]\n"
          ]
        }
      ]
    },
    {
      "cell_type": "code",
      "source": [
        "# numpy的copy & deep copy\n",
        "import numpy as np\n",
        "\n",
        "a = np.arange(4)\n",
        "print(a)\n",
        "b = a\n",
        "c = a\n",
        "d = b\n",
        "a[0] = 11\n",
        "print(a, b, c, d)\n",
        "print(b is a) # is比较对象的地址 ==比较对象的值\n",
        "d[1:3] = [22, 33]\n",
        "print(a)\n",
        "\n",
        "b = a.copy() # deep copy\n",
        "a[3] = 44\n",
        "print(a, b)"
      ],
      "metadata": {
        "colab": {
          "base_uri": "https://localhost:8080/"
        },
        "id": "1mJQdSC-8vca",
        "outputId": "5b47f2a5-7681-4e49-fd8a-be3b929346e4"
      },
      "execution_count": null,
      "outputs": [
        {
          "output_type": "stream",
          "name": "stdout",
          "text": [
            "[0 1 2 3]\n",
            "[11  1  2  3] [11  1  2  3] [11  1  2  3] [11  1  2  3]\n",
            "True\n",
            "[11 22 33  3]\n",
            "[11 22 33 44] [11 22 33  3]\n"
          ]
        }
      ]
    },
    {
      "cell_type": "code",
      "source": [
        "# pandas 基本介绍\n",
        "import pandas as pd\n",
        "import numpy as np\n",
        "\n",
        "s = pd.Series([1, 3, 6, np.nan, 44, 1])\n",
        "print(s)\n",
        "\n",
        "dates = pd.date_range('20220513',periods=6)\n",
        "print(dates)\n",
        "\n",
        "df = pd.DataFrame(np.random.randn(6,4), index=dates, columns=['a','b','c','d'])\n",
        "print(df)\n",
        "\n",
        "df1 = pd.DataFrame(np.arange(12).reshape((3,4)))\n",
        "print(df1)\n",
        "\n",
        "df2 = pd.DataFrame({'A':1.,\n",
        "          'B':pd.Timestamp('20220513'),\n",
        "          'C':pd.Series(1,index=list(range(4)), dtype='float32'),\n",
        "          'D':np.array([3]*4, dtype='int32'),\n",
        "          'E':pd.Categorical([\"test\",\"train\",\"test\",\"train\"]),\n",
        "          'F':'foo'})\n",
        "print(df2)\n",
        "print(df2.dtypes)\n",
        "print(df2.index)\n",
        "print(df2.columns)\n",
        "print(df2.values)\n",
        "print(df2.describe())\n",
        "\n",
        "print(df2.sort_index(axis=1,ascending=False)) # 倒序排列\n",
        "print(df2.sort_index(axis=0,ascending=False))\n",
        "print(df2.sort_values(by='E'))"
      ],
      "metadata": {
        "colab": {
          "base_uri": "https://localhost:8080/"
        },
        "id": "pgQ0doH-94QJ",
        "outputId": "2b2dec97-53b2-43b2-9075-61ccb383e057"
      },
      "execution_count": null,
      "outputs": [
        {
          "output_type": "stream",
          "name": "stdout",
          "text": [
            "0     1.0\n",
            "1     3.0\n",
            "2     6.0\n",
            "3     NaN\n",
            "4    44.0\n",
            "5     1.0\n",
            "dtype: float64\n",
            "DatetimeIndex(['2022-05-13', '2022-05-14', '2022-05-15', '2022-05-16',\n",
            "               '2022-05-17', '2022-05-18'],\n",
            "              dtype='datetime64[ns]', freq='D')\n",
            "                   a         b         c         d\n",
            "2022-05-13  0.481928 -0.194874 -0.059614  1.123530\n",
            "2022-05-14  0.307261 -0.193799 -1.708245 -1.405982\n",
            "2022-05-15  0.689337 -2.051369 -1.097654 -0.971010\n",
            "2022-05-16 -0.694788  0.031832 -0.182853  0.026402\n",
            "2022-05-17  0.657991  1.057125 -0.001842 -0.209189\n",
            "2022-05-18  1.162364  1.049848 -0.906736  0.546814\n",
            "   0  1   2   3\n",
            "0  0  1   2   3\n",
            "1  4  5   6   7\n",
            "2  8  9  10  11\n",
            "     A          B    C  D      E    F\n",
            "0  1.0 2022-05-13  1.0  3   test  foo\n",
            "1  1.0 2022-05-13  1.0  3  train  foo\n",
            "2  1.0 2022-05-13  1.0  3   test  foo\n",
            "3  1.0 2022-05-13  1.0  3  train  foo\n",
            "A           float64\n",
            "B    datetime64[ns]\n",
            "C           float32\n",
            "D             int32\n",
            "E          category\n",
            "F            object\n",
            "dtype: object\n",
            "Int64Index([0, 1, 2, 3], dtype='int64')\n",
            "Index(['A', 'B', 'C', 'D', 'E', 'F'], dtype='object')\n",
            "[[1.0 Timestamp('2022-05-13 00:00:00') 1.0 3 'test' 'foo']\n",
            " [1.0 Timestamp('2022-05-13 00:00:00') 1.0 3 'train' 'foo']\n",
            " [1.0 Timestamp('2022-05-13 00:00:00') 1.0 3 'test' 'foo']\n",
            " [1.0 Timestamp('2022-05-13 00:00:00') 1.0 3 'train' 'foo']]\n",
            "         A    C    D\n",
            "count  4.0  4.0  4.0\n",
            "mean   1.0  1.0  3.0\n",
            "std    0.0  0.0  0.0\n",
            "min    1.0  1.0  3.0\n",
            "25%    1.0  1.0  3.0\n",
            "50%    1.0  1.0  3.0\n",
            "75%    1.0  1.0  3.0\n",
            "max    1.0  1.0  3.0\n",
            "     F      E  D    C          B    A\n",
            "0  foo   test  3  1.0 2022-05-13  1.0\n",
            "1  foo  train  3  1.0 2022-05-13  1.0\n",
            "2  foo   test  3  1.0 2022-05-13  1.0\n",
            "3  foo  train  3  1.0 2022-05-13  1.0\n",
            "     A          B    C  D      E    F\n",
            "3  1.0 2022-05-13  1.0  3  train  foo\n",
            "2  1.0 2022-05-13  1.0  3   test  foo\n",
            "1  1.0 2022-05-13  1.0  3  train  foo\n",
            "0  1.0 2022-05-13  1.0  3   test  foo\n",
            "     A          B    C  D      E    F\n",
            "0  1.0 2022-05-13  1.0  3   test  foo\n",
            "2  1.0 2022-05-13  1.0  3   test  foo\n",
            "1  1.0 2022-05-13  1.0  3  train  foo\n",
            "3  1.0 2022-05-13  1.0  3  train  foo\n"
          ]
        }
      ]
    },
    {
      "cell_type": "code",
      "source": [
        "# Pandas数据的筛选\n",
        "import pandas as pd\n",
        "import numpy as np\n",
        "\n",
        "dates = pd.date_range('20220513',periods=6)\n",
        "df = pd.DataFrame(np.arange(24).reshape((6,4)), index=dates, columns=['A','B','C','D'])\n",
        "print(df)\n",
        "print(df['A'], df.A)\n",
        "print(df[0:3])\n",
        "print(df['20220513':'20220517'])\n",
        "\n",
        "# select by label:loc\n",
        "print(df.loc['20220513'])\n",
        "print(df.loc[:,['A','B']])\n",
        "\n",
        "# select by position:iloc\n",
        "print(df.iloc[3])\n",
        "print(df.iloc[[1,3,5],1:3])\n",
        "\n",
        "# mixed selection:ix\n",
        "# 已被废弃\n",
        "# print(df.ix[:3, ['A','C']])\n",
        "\n",
        "# Boolean indexing\n",
        "print(df[df.A > 8])"
      ],
      "metadata": {
        "colab": {
          "base_uri": "https://localhost:8080/"
        },
        "id": "9W7FbbGACm29",
        "outputId": "4e43a97a-0897-4fde-8d72-99a4d39e62ec"
      },
      "execution_count": null,
      "outputs": [
        {
          "output_type": "stream",
          "name": "stdout",
          "text": [
            "             A   B   C   D\n",
            "2022-05-13   0   1   2   3\n",
            "2022-05-14   4   5   6   7\n",
            "2022-05-15   8   9  10  11\n",
            "2022-05-16  12  13  14  15\n",
            "2022-05-17  16  17  18  19\n",
            "2022-05-18  20  21  22  23\n",
            "2022-05-13     0\n",
            "2022-05-14     4\n",
            "2022-05-15     8\n",
            "2022-05-16    12\n",
            "2022-05-17    16\n",
            "2022-05-18    20\n",
            "Freq: D, Name: A, dtype: int64 2022-05-13     0\n",
            "2022-05-14     4\n",
            "2022-05-15     8\n",
            "2022-05-16    12\n",
            "2022-05-17    16\n",
            "2022-05-18    20\n",
            "Freq: D, Name: A, dtype: int64\n",
            "            A  B   C   D\n",
            "2022-05-13  0  1   2   3\n",
            "2022-05-14  4  5   6   7\n",
            "2022-05-15  8  9  10  11\n",
            "             A   B   C   D\n",
            "2022-05-13   0   1   2   3\n",
            "2022-05-14   4   5   6   7\n",
            "2022-05-15   8   9  10  11\n",
            "2022-05-16  12  13  14  15\n",
            "2022-05-17  16  17  18  19\n",
            "A    0\n",
            "B    1\n",
            "C    2\n",
            "D    3\n",
            "Name: 2022-05-13 00:00:00, dtype: int64\n",
            "             A   B\n",
            "2022-05-13   0   1\n",
            "2022-05-14   4   5\n",
            "2022-05-15   8   9\n",
            "2022-05-16  12  13\n",
            "2022-05-17  16  17\n",
            "2022-05-18  20  21\n",
            "A    12\n",
            "B    13\n",
            "C    14\n",
            "D    15\n",
            "Name: 2022-05-16 00:00:00, dtype: int64\n",
            "             B   C\n",
            "2022-05-14   5   6\n",
            "2022-05-16  13  14\n",
            "2022-05-18  21  22\n",
            "             A   B   C   D\n",
            "2022-05-16  12  13  14  15\n",
            "2022-05-17  16  17  18  19\n",
            "2022-05-18  20  21  22  23\n"
          ]
        }
      ]
    },
    {
      "cell_type": "code",
      "source": [
        "# Pandas设置值\n",
        "import pandas as pd\n",
        "import numpy as np\n",
        "\n",
        "dates = pd.date_range('20220513',periods=6)\n",
        "df = pd.DataFrame(np.arange(24).reshape((6,4)), index=dates, columns=['A','B','C','D'])\n",
        "\n",
        "df.iloc[2,2] = 1111\n",
        "df.loc['20220513', 'B'] = 2222\n",
        "df.B[df.A>4] = 0\n",
        "df['F'] = np.nan\n",
        "df['E'] = pd.Series([1,2,3,4,5,6], index=pd.date_range('20220513', periods=6))\n",
        "print(df)"
      ],
      "metadata": {
        "colab": {
          "base_uri": "https://localhost:8080/"
        },
        "id": "b3PxEQWbLI9a",
        "outputId": "945fd1df-ff11-4f58-d838-e3a9c0876b3f"
      },
      "execution_count": null,
      "outputs": [
        {
          "output_type": "stream",
          "name": "stdout",
          "text": [
            "             A     B     C   D   F  E\n",
            "2022-05-13   0  2222     2   3 NaN  1\n",
            "2022-05-14   4     5     6   7 NaN  2\n",
            "2022-05-15   8     0  1111  11 NaN  3\n",
            "2022-05-16  12     0    14  15 NaN  4\n",
            "2022-05-17  16     0    18  19 NaN  5\n",
            "2022-05-18  20     0    22  23 NaN  6\n"
          ]
        }
      ]
    },
    {
      "cell_type": "code",
      "source": [
        "# Pandas处理丢失数据\n",
        "import pandas as pd\n",
        "import numpy as np\n",
        "\n",
        "dates = pd.date_range('20220513',periods=6)\n",
        "df = pd.DataFrame(np.arange(24).reshape((6,4)), index=dates, columns=['A','B','C','D'])\n",
        "df.iloc[0,1] = np.nan\n",
        "df.iloc[1,2] = np.nan\n",
        "\n",
        "print(df.dropna(axis=0, how=\"any\")) # how={'any', 'all'} all表示只有在这一行或者列（看axis的值判断是行或列）都是nan的时候才丢掉\n",
        "print(df.dropna(axis=1, how=\"any\"))\n",
        "\n",
        "print(df.fillna(value=0))\n",
        "print(np.any(df.isnull())==True)"
      ],
      "metadata": {
        "colab": {
          "base_uri": "https://localhost:8080/"
        },
        "id": "MKAyw903ML2L",
        "outputId": "a79398ff-a5b1-4834-c916-4a18628bb22a"
      },
      "execution_count": null,
      "outputs": [
        {
          "output_type": "stream",
          "name": "stdout",
          "text": [
            "             A     B     C   D\n",
            "2022-05-15   8   9.0  10.0  11\n",
            "2022-05-16  12  13.0  14.0  15\n",
            "2022-05-17  16  17.0  18.0  19\n",
            "2022-05-18  20  21.0  22.0  23\n",
            "             A   D\n",
            "2022-05-13   0   3\n",
            "2022-05-14   4   7\n",
            "2022-05-15   8  11\n",
            "2022-05-16  12  15\n",
            "2022-05-17  16  19\n",
            "2022-05-18  20  23\n",
            "             A     B     C   D\n",
            "2022-05-13   0   0.0   2.0   3\n",
            "2022-05-14   4   5.0   0.0   7\n",
            "2022-05-15   8   9.0  10.0  11\n",
            "2022-05-16  12  13.0  14.0  15\n",
            "2022-05-17  16  17.0  18.0  19\n",
            "2022-05-18  20  21.0  22.0  23\n",
            "True\n"
          ]
        }
      ]
    },
    {
      "cell_type": "code",
      "source": [
        "# Pandas导入导出数据\n",
        "import pandas as pd\n",
        "import numpy as np\n",
        "# data = pd.read_csv('') # 里面写文件名\n",
        "# 没有文件故不演示\n",
        "# concatenating\n",
        "df1 = pd.DataFrame(np.ones((3,4)) * 0, columns = ['a', 'b', 'c', 'd'])\n",
        "df2 = pd.DataFrame(np.ones((3,4)) * 1, columns = ['a', 'b', 'c', 'd'])\n",
        "df3 = pd.DataFrame(np.ones((3,4)) * 2, columns = ['a', 'b', 'c', 'd'])\n",
        "print(df1)\n",
        "print(df1)\n",
        "print(df3)\n",
        "res = pd.concat([df1, df2, df3], axis=0, ignore_index=True)\n",
        "print(res)\n",
        "\n",
        "# join, ['inner', 'outer']\n",
        "df1 = pd.DataFrame(np.ones((3,4)) * 0, columns = ['a', 'b', 'c', 'd'], index=[1,2,3])\n",
        "df2 = pd.DataFrame(np.ones((3,4)) * 1, columns = ['b', 'c', 'd', 'e'], index=[2,3,4])\n",
        "print(df1)\n",
        "print(df2)\n",
        "res = pd.concat([df1, df2], join='outer') # 默认为outer\n",
        "print(res)\n",
        "res = pd.concat([df1, df2], join='inner')\n",
        "print(res)\n",
        "res = pd.concat([df1, df2], join='inner', ignore_index=True)\n",
        "print(res)"
      ],
      "metadata": {
        "colab": {
          "base_uri": "https://localhost:8080/"
        },
        "id": "wrAaPgccNTsD",
        "outputId": "14afcdd5-5fa0-4ea5-fb46-56641919786e"
      },
      "execution_count": 4,
      "outputs": [
        {
          "output_type": "stream",
          "name": "stdout",
          "text": [
            "     a    b    c    d\n",
            "0  0.0  0.0  0.0  0.0\n",
            "1  0.0  0.0  0.0  0.0\n",
            "2  0.0  0.0  0.0  0.0\n",
            "     a    b    c    d\n",
            "0  0.0  0.0  0.0  0.0\n",
            "1  0.0  0.0  0.0  0.0\n",
            "2  0.0  0.0  0.0  0.0\n",
            "     a    b    c    d\n",
            "0  2.0  2.0  2.0  2.0\n",
            "1  2.0  2.0  2.0  2.0\n",
            "2  2.0  2.0  2.0  2.0\n",
            "     a    b    c    d\n",
            "0  0.0  0.0  0.0  0.0\n",
            "1  0.0  0.0  0.0  0.0\n",
            "2  0.0  0.0  0.0  0.0\n",
            "3  1.0  1.0  1.0  1.0\n",
            "4  1.0  1.0  1.0  1.0\n",
            "5  1.0  1.0  1.0  1.0\n",
            "6  2.0  2.0  2.0  2.0\n",
            "7  2.0  2.0  2.0  2.0\n",
            "8  2.0  2.0  2.0  2.0\n",
            "     a    b    c    d\n",
            "1  0.0  0.0  0.0  0.0\n",
            "2  0.0  0.0  0.0  0.0\n",
            "3  0.0  0.0  0.0  0.0\n",
            "     b    c    d    e\n",
            "2  1.0  1.0  1.0  1.0\n",
            "3  1.0  1.0  1.0  1.0\n",
            "4  1.0  1.0  1.0  1.0\n",
            "     a    b    c    d    e\n",
            "1  0.0  0.0  0.0  0.0  NaN\n",
            "2  0.0  0.0  0.0  0.0  NaN\n",
            "3  0.0  0.0  0.0  0.0  NaN\n",
            "2  NaN  1.0  1.0  1.0  1.0\n",
            "3  NaN  1.0  1.0  1.0  1.0\n",
            "4  NaN  1.0  1.0  1.0  1.0\n",
            "     b    c    d\n",
            "1  0.0  0.0  0.0\n",
            "2  0.0  0.0  0.0\n",
            "3  0.0  0.0  0.0\n",
            "2  1.0  1.0  1.0\n",
            "3  1.0  1.0  1.0\n",
            "4  1.0  1.0  1.0\n",
            "     b    c    d\n",
            "0  0.0  0.0  0.0\n",
            "1  0.0  0.0  0.0\n",
            "2  0.0  0.0  0.0\n",
            "3  1.0  1.0  1.0\n",
            "4  1.0  1.0  1.0\n",
            "5  1.0  1.0  1.0\n"
          ]
        }
      ]
    },
    {
      "cell_type": "code",
      "source": [
        "# join_axes\n",
        "df1 = pd.DataFrame(np.ones((3,4)) * 0, columns = ['a', 'b', 'c', 'd'], index=[1,2,3])\n",
        "df2 = pd.DataFrame(np.ones((3,4)) * 1, columns = ['b', 'c', 'd', 'e'], index=[2,3,4])\n",
        "res = pd.concat([df1,df2], axis=1).iloc[[0,1,2]]\n",
        "print(res)\n",
        "\n",
        "res = df1.append(df2, ignore_index=True)\n",
        "print(res)\n",
        "\n",
        "\n",
        "df1 = pd.DataFrame(np.ones((3,4)) * 0, columns = ['a', 'b', 'c', 'd'])\n",
        "df2 = pd.DataFrame(np.ones((3,4)) * 1, columns = ['a', 'b', 'c', 'd'])\n",
        "df3 = pd.DataFrame(np.ones((3,4)) * 2, columns = ['a', 'b', 'c', 'd'])\n",
        "res = df1.append([df2, df3], ignore_index=True)\n",
        "print(res)"
      ],
      "metadata": {
        "id": "Adi-Cd7ZW2G6",
        "colab": {
          "base_uri": "https://localhost:8080/"
        },
        "outputId": "930a4b3e-fc1a-42e8-9b3c-ea0b3a3e2fd4"
      },
      "execution_count": 5,
      "outputs": [
        {
          "output_type": "stream",
          "name": "stdout",
          "text": [
            "     a    b    c    d    b    c    d    e\n",
            "1  0.0  0.0  0.0  0.0  NaN  NaN  NaN  NaN\n",
            "2  0.0  0.0  0.0  0.0  1.0  1.0  1.0  1.0\n",
            "3  0.0  0.0  0.0  0.0  1.0  1.0  1.0  1.0\n",
            "     a    b    c    d    e\n",
            "0  0.0  0.0  0.0  0.0  NaN\n",
            "1  0.0  0.0  0.0  0.0  NaN\n",
            "2  0.0  0.0  0.0  0.0  NaN\n",
            "3  NaN  1.0  1.0  1.0  1.0\n",
            "4  NaN  1.0  1.0  1.0  1.0\n",
            "5  NaN  1.0  1.0  1.0  1.0\n",
            "     a    b    c    d\n",
            "0  0.0  0.0  0.0  0.0\n",
            "1  0.0  0.0  0.0  0.0\n",
            "2  0.0  0.0  0.0  0.0\n",
            "3  1.0  1.0  1.0  1.0\n",
            "4  1.0  1.0  1.0  1.0\n",
            "5  1.0  1.0  1.0  1.0\n",
            "6  2.0  2.0  2.0  2.0\n",
            "7  2.0  2.0  2.0  2.0\n",
            "8  2.0  2.0  2.0  2.0\n"
          ]
        }
      ]
    },
    {
      "cell_type": "code",
      "source": [
        "# Pandas合并 merge\n",
        "import pandas as pd\n",
        "import numpy as np\n",
        "\n",
        "left = pd.DataFrame({'key':['K0','K1','K2','K3'],\n",
        "            'A':['A0','A1','A2','A3'],\n",
        "            'B':['B0','B1','B2','B3']})\n",
        "right = pd.DataFrame({'key':['K0','K1','K2','K3'],\n",
        "            'C':['C0','C1','C2','C3'],\n",
        "            'D':['D0','D1','D2','D3']})\n",
        "\n",
        "# merging two df by key/keys. (may be used in database)\n",
        "# consider two keys\n",
        "print(left)\n",
        "print(right)\n",
        "res = pd.merge(left, right, on='key')\n",
        "print(res)"
      ],
      "metadata": {
        "colab": {
          "base_uri": "https://localhost:8080/"
        },
        "id": "okVdSsBhRWg1",
        "outputId": "c0713499-1367-4e8c-bf24-9caad7fc4398"
      },
      "execution_count": 7,
      "outputs": [
        {
          "output_type": "stream",
          "name": "stdout",
          "text": [
            "  key   A   B\n",
            "0  K0  A0  B0\n",
            "1  K1  A1  B1\n",
            "2  K2  A2  B2\n",
            "3  K3  A3  B3\n",
            "  key   C   D\n",
            "0  K0  C0  D0\n",
            "1  K1  C1  D1\n",
            "2  K2  C2  D2\n",
            "3  K3  C3  D3\n",
            "  key   A   B   C   D\n",
            "0  K0  A0  B0  C0  D0\n",
            "1  K1  A1  B1  C1  D1\n",
            "2  K2  A2  B2  C2  D2\n",
            "3  K3  A3  B3  C3  D3\n"
          ]
        }
      ]
    },
    {
      "cell_type": "code",
      "source": [
        "left = pd.DataFrame({'key1':['K0','K1','K2','K3'],\n",
        "            'key2':['K0','K1','K2','K3'],\n",
        "            'A':['A0','A1','A2','A3'],\n",
        "            'B':['B0','B1','B2','B3']})\n",
        "right = pd.DataFrame({'key1':['K0','K1','K2','K3'],\n",
        "            'key2':['K0','K1','K2','K3'],\n",
        "            'C':['C0','C1','C2','C3'],\n",
        "            'D':['D0','D1','D2','D3']})\n",
        "\n",
        "# merging two df by key/keys. (may be used in database)\n",
        "# consider two keys\n",
        "print(left)\n",
        "print(right)\n",
        "# how = ['left', 'right', 'outer', 'inner']\n",
        "res = pd.merge(left, right, on=['key1','key2']) # 默认合并方法为inner\n",
        "print(res)"
      ],
      "metadata": {
        "colab": {
          "base_uri": "https://localhost:8080/"
        },
        "id": "cwuObhTrTJcS",
        "outputId": "13ba53e8-cf5d-4169-a2bc-e34eff9edf87"
      },
      "execution_count": 10,
      "outputs": [
        {
          "output_type": "stream",
          "name": "stdout",
          "text": [
            "  key1 key2   A   B\n",
            "0   K0   K0  A0  B0\n",
            "1   K1   K1  A1  B1\n",
            "2   K2   K2  A2  B2\n",
            "3   K3   K3  A3  B3\n",
            "  key1 key2   C   D\n",
            "0   K0   K0  C0  D0\n",
            "1   K1   K1  C1  D1\n",
            "2   K2   K2  C2  D2\n",
            "3   K3   K3  C3  D3\n",
            "  key1 key2   A   B   C   D\n",
            "0   K0   K0  A0  B0  C0  D0\n",
            "1   K1   K1  A1  B1  C1  D1\n",
            "2   K2   K2  A2  B2  C2  D2\n",
            "3   K3   K3  A3  B3  C3  D3\n"
          ]
        }
      ]
    }
  ]
}